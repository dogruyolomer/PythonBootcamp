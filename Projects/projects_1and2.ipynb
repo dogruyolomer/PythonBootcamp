{
 "cells": [
  {
   "cell_type": "markdown",
   "metadata": {},
   "source": [
    "# User guesses the number"
   ]
  },
  {
   "cell_type": "code",
   "execution_count": null,
   "metadata": {},
   "outputs": [],
   "source": [
    "import random\n",
    "\n",
    "firstNumber, lastNumber = input(\"Enter the range of numbers you want to guess:\").split()\n",
    "print(\"First number is {} and second number is {}\".format(firstNumber, lastNumber))\n",
    "firstNumber = int(firstNumber) \n",
    "lastNumber = int(lastNumber)\n",
    "guess = int\n",
    "randomNumber = random.randint(firstNumber,lastNumber-1)\n",
    "## print(\"random number is: \", randomNumber)\n",
    "\n",
    "while guess != randomNumber :\n",
    "    guess = int(input(f'Guess a number between {firstNumber} and {lastNumber}:'))\n",
    "    if guess < randomNumber:\n",
    "        print(f'{guess} is too LOW. Please guess again.')\n",
    "    elif guess > randomNumber:\n",
    "        print(f'{guess} is too HIGH. Please guess again.')\n",
    "    else :\n",
    "        print(f'Congrats! You have guessed the number {guess} correctly.')\n",
    "\n"
   ]
  }
 ],
 "metadata": {
  "kernelspec": {
   "display_name": "Python 3",
   "language": "python",
   "name": "python3"
  },
  "language_info": {
   "codemirror_mode": {
    "name": "ipython",
    "version": 3
   },
   "file_extension": ".py",
   "mimetype": "text/x-python",
   "name": "python",
   "nbconvert_exporter": "python",
   "pygments_lexer": "ipython3",
   "version": "3.11.4"
  }
 },
 "nbformat": 4,
 "nbformat_minor": 2
}
