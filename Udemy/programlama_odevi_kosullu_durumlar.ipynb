{
 "cells": [
  {
   "cell_type": "markdown",
   "metadata": {},
   "source": [
    "### Problem 1"
   ]
  },
  {
   "cell_type": "markdown",
   "metadata": {},
   "source": [
    "Kullanıcıdan alınan boy ve kilo değerlerine göre beden kitle indeksini hesaplayın ve şu kurallara göre ekrana şu yazıları yazdırın.\n",
    "\n",
    " Beden Kitle İndeksi: Kilo / Boy(m) *  Boy(m)\n",
    "\n",
    " BKİ 18.5'un altındaysa -------> Zayıf\n",
    "\n",
    " BKİ 18.5 ile 25 arasındaysa ------> Normal\n",
    "\n",
    " BKİ 25 ile 30 arasındaysa --------> Fazla Kilolu\n",
    "\n",
    " BKİ 30'un üstündeyse -------------> Obez"
   ]
  },
  {
   "cell_type": "code",
   "execution_count": 4,
   "metadata": {},
   "outputs": [
    {
     "name": "stdout",
     "output_type": "stream",
     "text": [
      "22.616699539776466\n",
      "Normal\n"
     ]
    }
   ],
   "source": [
    "# Beden kitle indeksi: Kilo / Boy(m) * Boy(m)\n",
    "\n",
    "kilo = float(input(\"Lütfen kilonuzu giriniz:\"))\n",
    "boy = float(input(\"Lütfen boyunuzu metre cinsinden giriniz:\"))\n",
    "\n",
    "bki = kilo / boy **2\n",
    "\n",
    "if(bki < 18.5):\n",
    "    print(bki)\n",
    "    print(\"Zayif\")\n",
    "elif(bki>= 18.5 and bki <25):\n",
    "    print(bki)\n",
    "    print(\"Normal\")\n",
    "elif(bki>=25 and bki<30):\n",
    "    print(bki)\n",
    "    print(\"Fazla kilolu\")\n",
    "elif(bki>=30):\n",
    "    print(bki)\n",
    "    print(\"Obez\")\n",
    "else:\n",
    "    print(\"Geçersiz değer girdiniz.\")"
   ]
  },
  {
   "cell_type": "markdown",
   "metadata": {},
   "source": [
    "### Problem 2"
   ]
  },
  {
   "cell_type": "markdown",
   "metadata": {},
   "source": [
    "Kullanıcıdan 3 tane sayı alın ve en büyük sayıyı ekrana yazdırın."
   ]
  },
  {
   "cell_type": "code",
   "execution_count": 8,
   "metadata": {},
   "outputs": [
    {
     "name": "stdout",
     "output_type": "stream",
     "text": [
      "12\n"
     ]
    }
   ],
   "source": [
    "num1 = int(input(\"Lütfen ilk sayıyı giriniz\"))\n",
    "num2 = int(input(\"Lütfen ikinci sayıyı giriniz\"))\n",
    "num3 = int(input(\"Lütfen üçüncü sayıyı giriniz\"))\n",
    "\n",
    "maxNum = max(num1,num2,num3)\n",
    "print(maxNum)\n"
   ]
  },
  {
   "cell_type": "markdown",
   "metadata": {},
   "source": [
    "### Problem 3"
   ]
  },
  {
   "cell_type": "markdown",
   "metadata": {},
   "source": [
    "Kullanıcının girdiği vize1, vize2, final notlarına notlarına göre harf notunu hesaplayın."
   ]
  },
  {
   "cell_type": "code",
   "execution_count": 1,
   "metadata": {},
   "outputs": [
    {
     "name": "stdout",
     "output_type": "stream",
     "text": [
      "FF\n"
     ]
    }
   ],
   "source": [
    "vize1 = int(input(\"Lütfen vize1 notunuzu giriniz\"))\n",
    "vize2 = int(input(\"Lütfen vize2 notunuzu giriniz\"))\n",
    "final = int(input(\"Lütfen final notunuzu giriniz\"))\n",
    "\n",
    "vize1 = vize1*3/10 \n",
    "vize2 = vize2*3/10\n",
    "final = final*4/10\n",
    "\n",
    "toplamNot = vize1 + vize2 + final\n",
    "\n",
    "if(toplamNot >= 90):\n",
    "    print(\"AA\")\n",
    "elif(toplamNot>=85 and toplamNot<90):\n",
    "    print(\"BA\")\n",
    "elif(toplamNot>=80 and toplamNot<85):\n",
    "    print(\"BB\")\n",
    "elif(toplamNot>=75 and toplamNot<80):\n",
    "    print(\"CB\")\n",
    "elif(toplamNot>=70 and toplamNot<75):\n",
    "    print(\"CC\")\n",
    "elif(toplamNot>=65 and toplamNot<70):\n",
    "    print(\"DC\")\n",
    "elif(toplamNot>=60 and toplamNot<65):\n",
    "    print(\"DD\")\n",
    "elif(toplamNot>=55 and toplamNot<60):\n",
    "    print(\"FD\")\n",
    "elif(toplamNot<55):\n",
    "    print(\"FF\")\n",
    "else:\n",
    "    print(\"Yanlis giris yaptiniz. Lutfen gecerli not giriniz.\")"
   ]
  },
  {
   "cell_type": "markdown",
   "metadata": {},
   "source": [
    "### Problem 4"
   ]
  },
  {
   "cell_type": "markdown",
   "metadata": {},
   "source": [
    "Şimdi de geometrik şekil hesaplama işlemi yapalım. İlk olarak kullanıcıdan üçgenin mi dörtgenin mi tipini bulmak istediğini sorun.\n",
    "\n",
    "Eğer kullanıcı \"Dörtgen\" cevabını verirse , 4 tane kenar isteyip bu dörtgenin kare mi , dikdörtgen mi yoksa sıradan bir dörtgen mi olduğunu bulmaya çalışın.\n",
    "\n",
    "Eğer kullanıcı \"Üçgen\" cevabını verirse , 3 tane kenar isteyip bu üçgenin ikizkenar mı , eşkenar mı yoksa sıradan bir üçgen mi olduğunu bulmaya çalışın. Eğer verilen kenarlar bir üçgen belirtmiyorsa, ekrana \"Üçgen belirtmiyor\" şeklinde bir yazı yazın.o\n",
    "\n",
    "Üçgen belirtme şartını bilmiyorsunuz internetten bakabilirsiniz.\n",
    "\n",
    "Ayrıca , bu problemde mutlak değer bulmaya ihtiyacınız olacak. Bunun için, Pythonda hazır bir fonksiyon olan abs() fonksiyonunu kullanabilirsiniz. Kullanımı şu şekildedir ;\n",
    "\n",
    "```\n",
    "abs(-4)\n",
    "4\n",
    "abs(5)\n",
    "5\n",
    "*Not: Bu problem sizin algoritma kurma becerinizi bir hayli geliştirecektir.*\n",
    "\n",
    " "
   ]
  },
  {
   "cell_type": "code",
   "execution_count": 2,
   "metadata": {},
   "outputs": [
    {
     "name": "stdout",
     "output_type": "stream",
     "text": [
      "[1]\n",
      "[1, 2]\n",
      "[1, 2, 3]\n",
      "[1, 2, 3, 4]\n",
      "dortgen\n"
     ]
    }
   ],
   "source": [
    "soru = str(input(\"ucgen mi dortgen mi\"))\n",
    "if(soru.lower()== \"ucgen\"):\n",
    "    ucgen = []\n",
    "    for i in range(0,3):\n",
    "        kenar = int(input(\"kenar uzunlugunu giriniz.\"))\n",
    "        kenar = abs(kenar)\n",
    "        ucgen.append(kenar)\n",
    "        print(ucgen)\n",
    "    if( ucgen[0] - ucgen[1] < ucgen[2] and ucgen[0] + ucgen[1] > ucgen[2] and  \n",
    "        ucgen[2] - ucgen[1] < ucgen[0] and ucgen[2] + ucgen[1] > ucgen[0] and\n",
    "        ucgen[0] - ucgen[2] < ucgen[1] and ucgen[0] + ucgen[2] > ucgen[1] ):\n",
    "    \n",
    "        if(ucgen[0] == ucgen[1] and ucgen[0] == ucgen[2]):\n",
    "            print(\"eskenar ucgen\")\n",
    "        elif(ucgen[0]== ucgen[1] or ucgen[0] == ucgen[2] or ucgen[1] == ucgen[2]):\n",
    "            print(\"ikizkenar ucgen\")\n",
    "        else:\n",
    "            print(\"siradan ucgen\")\n",
    "\n",
    "\n",
    "elif(soru.lower()== \"dortgen\"):\n",
    "    dortgen = []\n",
    "    for j in range(0,4):\n",
    "        kenar = int(input(\"kenar uzunlugunu giriniz.\"))\n",
    "        while kenar == 0:\n",
    "            kenar = int(input(\"gecerli bir uzunluk giriniz.\"))\n",
    "            break\n",
    "        \n",
    "        kenar = abs(kenar)\n",
    "        dortgen.append(kenar)\n",
    "        print(dortgen)\n",
    "\n",
    "    if(dortgen[0] == dortgen[1] and dortgen[0] == dortgen[2] and dortgen[0] == dortgen[3]):\n",
    "        print(\"kare\")\n",
    "    elif(dortgen[0] == dortgen[2] and dortgen[1] == dortgen[3] and dortgen[0] != dortgen[1]):\n",
    "        print(\"dikdortgen\")\n",
    "    else:\n",
    "        print(\"dortgen\")\n",
    "\n"
   ]
  }
 ],
 "metadata": {
  "kernelspec": {
   "display_name": "Python 3",
   "language": "python",
   "name": "python3"
  },
  "language_info": {
   "codemirror_mode": {
    "name": "ipython",
    "version": 3
   },
   "file_extension": ".py",
   "mimetype": "text/x-python",
   "name": "python",
   "nbconvert_exporter": "python",
   "pygments_lexer": "ipython3",
   "version": "3.11.4"
  }
 },
 "nbformat": 4,
 "nbformat_minor": 2
}
