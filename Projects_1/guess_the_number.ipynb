{
 "cells": [
  {
   "cell_type": "markdown",
   "metadata": {},
   "source": [
    "# User guesses the number"
   ]
  },
  {
   "cell_type": "code",
   "execution_count": 1,
   "metadata": {},
   "outputs": [
    {
     "name": "stdout",
     "output_type": "stream",
     "text": [
      "First number is 10 and second number is 15\n",
      "11 is too LOW. Please guess again.\n",
      "12 is too LOW. Please guess again.\n",
      "13 is too LOW. Please guess again.\n",
      "Congrats! You have guessed the number 14 correctly.\n"
     ]
    }
   ],
   "source": [
    "import random\n",
    "\n",
    "firstNumber, lastNumber = input(\"Enter the range of numbers you want to guess:\").split()\n",
    "print(\"First number is {} and second number is {}\".format(firstNumber, lastNumber))\n",
    "firstNumber = int(firstNumber) \n",
    "lastNumber = int(lastNumber)\n",
    "guess = int\n",
    "randomNumber = random.randint(firstNumber,lastNumber-1)\n",
    "## print(\"random number is: \", randomNumber)\n",
    "\n",
    "while guess != randomNumber :\n",
    "    guess = int(input(f'Guess a number between {firstNumber} and {lastNumber}:'))\n",
    "    if guess < randomNumber:\n",
    "        print(f'{guess} is too LOW. Please guess again.')\n",
    "    elif guess > randomNumber:\n",
    "        print(f'{guess} is too HIGH. Please guess again.')\n",
    "    else :\n",
    "        print(f'Congrats! You have guessed the number {guess} correctly.')\n",
    "\n"
   ]
  },
  {
   "cell_type": "markdown",
   "metadata": {},
   "source": [
    "# The computer guesses the number"
   ]
  },
  {
   "cell_type": "code",
   "execution_count": null,
   "metadata": {},
   "outputs": [
    {
     "name": "stdout",
     "output_type": "stream",
     "text": [
      "computer guessing between 10 and 20\n",
      "Computer guessed your number 16, correctly!\n"
     ]
    }
   ],
   "source": [
    "import random\n",
    "\n",
    "firstNumber, lastNumber = input(\"Enter the range of numbers you want to play:\").split()\n",
    "print(\"computer guessing between {} and {}\".format(firstNumber, lastNumber))\n",
    "firstNumber = int(firstNumber) \n",
    "lastNumber = int(lastNumber)\n",
    "guess = int\n",
    "\n",
    "feedback = ''\n",
    "while feedback != 'c':\n",
    "    if firstNumber != lastNumber:\n",
    "        guess = random.randint(firstNumber, lastNumber)\n",
    "    else:\n",
    "        guess = firstNumber\n",
    "    feedback = input(f'Is {guess} too high (H), too low (L), or correct (C)?? ').lower()\n",
    "\n",
    "    if feedback == 'h':\n",
    "        lastNumber = guess -1\n",
    "    elif feedback == 'l':\n",
    "        firstNumber = guess +1\n",
    "print(f'Computer guessed your number {guess}, correctly!')\n"
   ]
  }
 ],
 "metadata": {
  "kernelspec": {
   "display_name": "Python 3",
   "language": "python",
   "name": "python3"
  },
  "language_info": {
   "codemirror_mode": {
    "name": "ipython",
    "version": 3
   },
   "file_extension": ".py",
   "mimetype": "text/x-python",
   "name": "python",
   "nbconvert_exporter": "python",
   "pygments_lexer": "ipython3",
   "version": "3.11.4"
  }
 },
 "nbformat": 4,
 "nbformat_minor": 2
}
