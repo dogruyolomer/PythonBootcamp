{
 "cells": [
  {
   "cell_type": "markdown",
   "metadata": {},
   "source": [
    "# Rock paper scissors game"
   ]
  },
  {
   "cell_type": "code",
   "execution_count": 17,
   "metadata": {},
   "outputs": [
    {
     "name": "stdout",
     "output_type": "stream",
     "text": [
      "computer selected r, Computer wins.\n"
     ]
    }
   ],
   "source": [
    "import random\n",
    "\n",
    "user = input(\"'r' for rock, 's' for scissors, 'p' for paper\")    \n",
    "computer = random.choice(['r', 'p', 's'])\n",
    "if user == computer:\n",
    "    print(\"its a tie. lets play again.\")\n",
    "    user = input(\"'r' for rock, 's' for scissors, 'p' for paper\")\n",
    "    computer = random.choice(['r', 'p', 's'])\n",
    "\n",
    "if user == 'r' and computer == 's' or user == 's' and computer == 'p' or user == 'r' and computer == 'p':\n",
    "    print(f'computer selected {computer}, you win.')\n",
    "else:\n",
    "    print(f'computer selected {computer}, Computer wins.')"
   ]
  }
 ],
 "metadata": {
  "kernelspec": {
   "display_name": "Python 3",
   "language": "python",
   "name": "python3"
  },
  "language_info": {
   "codemirror_mode": {
    "name": "ipython",
    "version": 3
   },
   "file_extension": ".py",
   "mimetype": "text/x-python",
   "name": "python",
   "nbconvert_exporter": "python",
   "pygments_lexer": "ipython3",
   "version": "3.11.4"
  }
 },
 "nbformat": 4,
 "nbformat_minor": 2
}
